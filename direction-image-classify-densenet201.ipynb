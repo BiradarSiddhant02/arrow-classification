{
 "cells": [
  {
   "cell_type": "code",
   "execution_count": 25,
   "id": "wicked-benjamin",
   "metadata": {
    "execution": {
     "iopub.execute_input": "2021-05-14T07:01:45.580273Z",
     "iopub.status.busy": "2021-05-14T07:01:45.579446Z",
     "iopub.status.idle": "2021-05-14T07:01:52.341931Z",
     "shell.execute_reply": "2021-05-14T07:01:52.341276Z"
    },
    "papermill": {
     "duration": 6.793049,
     "end_time": "2021-05-14T07:01:52.342118",
     "exception": false,
     "start_time": "2021-05-14T07:01:45.549069",
     "status": "completed"
    },
    "tags": []
   },
   "outputs": [],
   "source": [
    "import numpy as np\n",
    "import pandas as pd\n",
    "import os\n",
    "import matplotlib.pyplot as plt\n",
    "import tensorflow as tf\n",
    "import cv2\n",
    "\n",
    "from tensorflow.keras.utils import to_categorical\n",
    "from tensorflow.keras.preprocessing.image import load_img, img_to_array\n",
    "from tensorflow.keras.preprocessing.image import ImageDataGenerator\n",
    "\n",
    "from sklearn.metrics import classification_report, log_loss, accuracy_score\n",
    "from sklearn.model_selection import train_test_split\n",
    "from tqdm import tqdm"
   ]
  },
  {
   "cell_type": "code",
   "execution_count": 26,
   "id": "tropical-praise",
   "metadata": {
    "execution": {
     "iopub.execute_input": "2021-05-14T07:01:52.382159Z",
     "iopub.status.busy": "2021-05-14T07:01:52.381491Z",
     "iopub.status.idle": "2021-05-14T07:01:52.383285Z",
     "shell.execute_reply": "2021-05-14T07:01:52.383835Z"
    },
    "papermill": {
     "duration": 0.023885,
     "end_time": "2021-05-14T07:01:52.383993",
     "exception": false,
     "start_time": "2021-05-14T07:01:52.360108",
     "status": "completed"
    },
    "tags": []
   },
   "outputs": [],
   "source": [
    "train_dir = './data/'"
   ]
  },
  {
   "cell_type": "code",
   "execution_count": 27,
   "id": "narrow-narrow",
   "metadata": {
    "execution": {
     "iopub.execute_input": "2021-05-14T07:01:52.425297Z",
     "iopub.status.busy": "2021-05-14T07:01:52.424622Z",
     "iopub.status.idle": "2021-05-14T07:01:52.439153Z",
     "shell.execute_reply": "2021-05-14T07:01:52.438441Z"
    },
    "papermill": {
     "duration": 0.037951,
     "end_time": "2021-05-14T07:01:52.439308",
     "exception": false,
     "start_time": "2021-05-14T07:01:52.401357",
     "status": "completed"
    },
    "tags": []
   },
   "outputs": [
    {
     "name": "stdout",
     "output_type": "stream",
     "text": [
      "['0', '1', '3', '2']\n",
      "4\n"
     ]
    }
   ],
   "source": [
    "Name=[]\n",
    "for file in os.listdir(train_dir):\n",
    "    Name+=[file]\n",
    "print(Name)\n",
    "print(len(Name))"
   ]
  },
  {
   "cell_type": "code",
   "execution_count": 28,
   "id": "unsigned-broad",
   "metadata": {
    "execution": {
     "iopub.execute_input": "2021-05-14T07:01:52.481018Z",
     "iopub.status.busy": "2021-05-14T07:01:52.480033Z",
     "iopub.status.idle": "2021-05-14T07:01:52.485535Z",
     "shell.execute_reply": "2021-05-14T07:01:52.486023Z"
    },
    "papermill": {
     "duration": 0.027741,
     "end_time": "2021-05-14T07:01:52.486209",
     "exception": false,
     "start_time": "2021-05-14T07:01:52.458468",
     "status": "completed"
    },
    "tags": []
   },
   "outputs": [],
   "source": [
    "N=[]\n",
    "for i in range(len(Name)):\n",
    "    N+=[i]\n",
    "    \n",
    "mapping=dict(zip(Name,N)) \n",
    "reverse_mapping=dict(zip(N,Name)) \n",
    "\n",
    "def mapper(value):\n",
    "    return reverse_mapping[value]"
   ]
  },
  {
   "cell_type": "code",
   "execution_count": 29,
   "id": "collectible-maine",
   "metadata": {
    "_cell_guid": "79c7e3d0-c299-4dcb-8224-4455121ee9b0",
    "_uuid": "d629ff2d2480ee46fbb7e2d37f6b5fab8052498a",
    "execution": {
     "iopub.execute_input": "2021-05-14T07:01:52.526068Z",
     "iopub.status.busy": "2021-05-14T07:01:52.525110Z",
     "iopub.status.idle": "2021-05-14T07:02:06.728525Z",
     "shell.execute_reply": "2021-05-14T07:02:06.727848Z"
    },
    "papermill": {
     "duration": 14.224251,
     "end_time": "2021-05-14T07:02:06.728665",
     "exception": false,
     "start_time": "2021-05-14T07:01:52.504414",
     "status": "completed"
    },
    "tags": []
   },
   "outputs": [
    {
     "name": "stderr",
     "output_type": "stream",
     "text": [
      "100%|██████████| 1000/1000 [00:01<00:00, 710.72it/s]\n",
      "100%|██████████| 1000/1000 [00:01<00:00, 731.27it/s]\n",
      "100%|██████████| 1000/1000 [00:01<00:00, 734.79it/s]\n",
      "100%|██████████| 1000/1000 [00:01<00:00, 732.63it/s]"
     ]
    },
    {
     "name": "stdout",
     "output_type": "stream",
     "text": [
      "<class 'numpy.ndarray'>\n"
     ]
    },
    {
     "name": "stderr",
     "output_type": "stream",
     "text": [
      "\n"
     ]
    }
   ],
   "source": [
    "dataset=[]\n",
    "testset=[]\n",
    "count=0\n",
    "for file in Name:\n",
    "    t=0\n",
    "    path=os.path.join(train_dir,file)\n",
    "    for im in tqdm(os.listdir(path)):\n",
    "        image=load_img(os.path.join(path,im), color_mode='rgb', target_size=(40,40))\n",
    "        image=img_to_array(image)\n",
    "        image=image/255.0\n",
    "        if t<800:\n",
    "            dataset+=[[image,count]]\n",
    "        else:\n",
    "            testset+=[[image,count]]\n",
    "        t+=1     \n",
    "    count+=1\n",
    "print(type(image))"
   ]
  },
  {
   "cell_type": "code",
   "execution_count": 30,
   "id": "9f70fd3a",
   "metadata": {},
   "outputs": [
    {
     "data": {
      "text/plain": [
       "<matplotlib.image.AxesImage at 0x74eb216ef880>"
      ]
     },
     "execution_count": 30,
     "metadata": {},
     "output_type": "execute_result"
    },
    {
     "data": {
      "image/png": "[encoded data removed]",
      "text/plain": [
       "<Figure size 640x480 with 1 Axes>"
      ]
     },
     "metadata": {},
     "output_type": "display_data"
    }
   ],
   "source": [
    "image=load_img('data/1/8.jpg', color_mode='rgb', target_size=(40,40))\n",
    "image=img_to_array(image)\n",
    "image=image/255.0\n",
    "plt.imshow(image)"
   ]
  },
  {
   "cell_type": "code",
   "execution_count": 31,
   "id": "handed-hungary",
   "metadata": {
    "execution": {
     "iopub.execute_input": "2021-05-14T07:02:06.859513Z",
     "iopub.status.busy": "2021-05-14T07:02:06.858883Z",
     "iopub.status.idle": "2021-05-14T07:02:06.861654Z",
     "shell.execute_reply": "2021-05-14T07:02:06.862155Z"
    },
    "papermill": {
     "duration": 0.071878,
     "end_time": "2021-05-14T07:02:06.862334",
     "exception": false,
     "start_time": "2021-05-14T07:02:06.790456",
     "status": "completed"
    },
    "tags": []
   },
   "outputs": [],
   "source": [
    "data,labels0=zip(*dataset)\n",
    "test,testlabels0=zip(*testset)"
   ]
  },
  {
   "cell_type": "code",
   "execution_count": 32,
   "id": "detailed-victorian",
   "metadata": {
    "execution": {
     "iopub.execute_input": "2021-05-14T07:02:06.991682Z",
     "iopub.status.busy": "2021-05-14T07:02:06.990952Z",
     "iopub.status.idle": "2021-05-14T07:02:06.995847Z",
     "shell.execute_reply": "2021-05-14T07:02:06.995228Z"
    },
    "papermill": {
     "duration": 0.070778,
     "end_time": "2021-05-14T07:02:06.995983",
     "exception": false,
     "start_time": "2021-05-14T07:02:06.925205",
     "status": "completed"
    },
    "tags": []
   },
   "outputs": [],
   "source": [
    "labels1=to_categorical(labels0)\n",
    "labels=np.array(labels1)"
   ]
  },
  {
   "cell_type": "code",
   "execution_count": 33,
   "id": "working-tucson",
   "metadata": {
    "execution": {
     "iopub.execute_input": "2021-05-14T07:02:07.123975Z",
     "iopub.status.busy": "2021-05-14T07:02:07.123304Z",
     "iopub.status.idle": "2021-05-14T07:02:07.158518Z",
     "shell.execute_reply": "2021-05-14T07:02:07.157913Z"
    },
    "papermill": {
     "duration": 0.101561,
     "end_time": "2021-05-14T07:02:07.158658",
     "exception": false,
     "start_time": "2021-05-14T07:02:07.057097",
     "status": "completed"
    },
    "tags": []
   },
   "outputs": [],
   "source": [
    "data=np.array(data)\n",
    "test=np.array(test)"
   ]
  },
  {
   "cell_type": "code",
   "execution_count": 34,
   "id": "direct-debate",
   "metadata": {
    "execution": {
     "iopub.execute_input": "2021-05-14T07:02:07.286724Z",
     "iopub.status.busy": "2021-05-14T07:02:07.286042Z",
     "iopub.status.idle": "2021-05-14T07:02:07.316968Z",
     "shell.execute_reply": "2021-05-14T07:02:07.316428Z"
    },
    "papermill": {
     "duration": 0.097688,
     "end_time": "2021-05-14T07:02:07.317137",
     "exception": false,
     "start_time": "2021-05-14T07:02:07.219449",
     "status": "completed"
    },
    "tags": []
   },
   "outputs": [],
   "source": [
    "trainx,testx,trainy,testy=train_test_split(data,labels,test_size=0.2,random_state=44)"
   ]
  },
  {
   "cell_type": "code",
   "execution_count": 35,
   "id": "graphic-impression",
   "metadata": {
    "execution": {
     "iopub.execute_input": "2021-05-14T07:02:07.448885Z",
     "iopub.status.busy": "2021-05-14T07:02:07.447812Z",
     "iopub.status.idle": "2021-05-14T07:02:07.453330Z",
     "shell.execute_reply": "2021-05-14T07:02:07.452676Z"
    },
    "papermill": {
     "duration": 0.075331,
     "end_time": "2021-05-14T07:02:07.453477",
     "exception": false,
     "start_time": "2021-05-14T07:02:07.378146",
     "status": "completed"
    },
    "tags": []
   },
   "outputs": [
    {
     "name": "stdout",
     "output_type": "stream",
     "text": [
      "(2560, 40, 40, 3)\n",
      "(640, 40, 40, 3)\n",
      "(2560, 4)\n",
      "(640, 4)\n"
     ]
    }
   ],
   "source": [
    "print(trainx.shape)\n",
    "print(testx.shape)\n",
    "print(trainy.shape)\n",
    "print(testy.shape)"
   ]
  },
  {
   "cell_type": "code",
   "execution_count": 36,
   "id": "electric-albania",
   "metadata": {
    "execution": {
     "iopub.execute_input": "2021-05-14T07:02:07.602323Z",
     "iopub.status.busy": "2021-05-14T07:02:07.601267Z",
     "iopub.status.idle": "2021-05-14T07:02:07.604630Z",
     "shell.execute_reply": "2021-05-14T07:02:07.604105Z"
    },
    "papermill": {
     "duration": 0.07572,
     "end_time": "2021-05-14T07:02:07.604779",
     "exception": false,
     "start_time": "2021-05-14T07:02:07.529059",
     "status": "completed"
    },
    "tags": []
   },
   "outputs": [],
   "source": [
    "datagen = ImageDataGenerator(horizontal_flip=True,vertical_flip=True,rotation_range=20,zoom_range=0.2,\n",
    "                        width_shift_range=0.2,height_shift_range=0.2,shear_range=0.1,fill_mode=\"nearest\")"
   ]
  },
  {
   "cell_type": "code",
   "execution_count": 37,
   "id": "royal-ideal",
   "metadata": {
    "execution": {
     "iopub.execute_input": "2021-05-14T07:02:07.738504Z",
     "iopub.status.busy": "2021-05-14T07:02:07.737686Z",
     "iopub.status.idle": "2021-05-14T07:02:13.204355Z",
     "shell.execute_reply": "2021-05-14T07:02:13.203680Z"
    },
    "papermill": {
     "duration": 5.536637,
     "end_time": "2021-05-14T07:02:13.204506",
     "exception": false,
     "start_time": "2021-05-14T07:02:07.667869",
     "status": "completed"
    },
    "tags": []
   },
   "outputs": [],
   "source": [
    "pretrained_model3 = tf.keras.applications.DenseNet201(input_shape=(40,40,3),include_top=False,weights='imagenet',pooling='avg')\n",
    "pretrained_model3.trainable = False\n",
    "inputs3 = pretrained_model3.input\n",
    "x3 = tf.keras.layers.Dense(128, activation='relu')(pretrained_model3.output)\n",
    "outputs3 = tf.keras.layers.Dense(4, activation='softmax')(x3)\n",
    "model = tf.keras.Model(inputs=inputs3, outputs=outputs3)"
   ]
  },
  {
   "cell_type": "code",
   "execution_count": 38,
   "id": "geographic-regression",
   "metadata": {
    "execution": {
     "iopub.execute_input": "2021-05-14T07:02:13.358862Z",
     "iopub.status.busy": "2021-05-14T07:02:13.358144Z",
     "iopub.status.idle": "2021-05-14T07:02:13.437514Z",
     "shell.execute_reply": "2021-05-14T07:02:13.436576Z"
    },
    "papermill": {
     "duration": 0.167459,
     "end_time": "2021-05-14T07:02:13.437718",
     "exception": false,
     "start_time": "2021-05-14T07:02:13.270259",
     "status": "completed"
    },
    "tags": []
   },
   "outputs": [],
   "source": [
    "inputs3 = pretrained_model3.input\n",
    "x3 = tf.keras.layers.Dense(128, activation='relu')(pretrained_model3.output)\n",
    "outputs3 = tf.keras.layers.Dense(4, activation='softmax')(x3)\n",
    "model = tf.keras.Model(inputs=inputs3, outputs=outputs3)"
   ]
  },
  {
   "cell_type": "code",
   "execution_count": 39,
   "id": "headed-circular",
   "metadata": {
    "execution": {
     "iopub.execute_input": "2021-05-14T07:02:13.591191Z",
     "iopub.status.busy": "2021-05-14T07:02:13.590501Z",
     "iopub.status.idle": "2021-05-14T07:02:13.600823Z",
     "shell.execute_reply": "2021-05-14T07:02:13.600216Z"
    },
    "papermill": {
     "duration": 0.095723,
     "end_time": "2021-05-14T07:02:13.600969",
     "exception": false,
     "start_time": "2021-05-14T07:02:13.505246",
     "status": "completed"
    },
    "tags": []
   },
   "outputs": [],
   "source": [
    "model.compile(optimizer='adam',loss='categorical_crossentropy',metrics=['accuracy'])"
   ]
  },
  {
   "cell_type": "code",
   "execution_count": 40,
   "id": "searching-enclosure",
   "metadata": {
    "execution": {
     "iopub.execute_input": "2021-05-14T07:02:13.734241Z",
     "iopub.status.busy": "2021-05-14T07:02:13.733584Z",
     "iopub.status.idle": "2021-05-14T07:07:27.117830Z",
     "shell.execute_reply": "2021-05-14T07:07:27.116978Z"
    },
    "papermill": {
     "duration": 313.452249,
     "end_time": "2021-05-14T07:07:27.118056",
     "exception": false,
     "start_time": "2021-05-14T07:02:13.665807",
     "status": "completed"
    },
    "tags": []
   },
   "outputs": [
    {
     "name": "stdout",
     "output_type": "stream",
     "text": [
      "Epoch 1/15\n",
      "\u001b[1m 1/80\u001b[0m \u001b[37m━━━━━━━━━━━━━━━━━━━━\u001b[0m \u001b[1m19:00\u001b[0m 14s/step - accuracy: 0.2188 - loss: 1.5551"
     ]
    },
    {
     "name": "stderr",
     "output_type": "stream",
     "text": [
      "/home/sidd/.local/lib/python3.10/site-packages/keras/src/trainers/data_adapters/py_dataset_adapter.py:122: UserWarning: Your `PyDataset` class should call `super().__init__(**kwargs)` in its constructor. `**kwargs` can include `workers`, `use_multiprocessing`, `max_queue_size`. Do not pass these arguments to `fit()`, as they will be ignored.\n",
      "  self._warn_if_super_not_called()\n"
     ]
    },
    {
     "name": "stdout",
     "output_type": "stream",
     "text": [
      "\u001b[1m80/80\u001b[0m \u001b[32m━━━━━━━━━━━━━━━━━━━━\u001b[0m\u001b[37m\u001b[0m \u001b[1m0s\u001b[0m 59ms/step - accuracy: 0.6531 - loss: 0.8080\n",
      "Epoch 1: saving model to training_1/cp.weights.h5\n",
      "\u001b[1m80/80\u001b[0m \u001b[32m━━━━━━━━━━━━━━━━━━━━\u001b[0m\u001b[37m\u001b[0m \u001b[1m26s\u001b[0m 141ms/step - accuracy: 0.6544 - loss: 0.8050 - val_accuracy: 0.8813 - val_loss: 0.2914\n",
      "Epoch 2/15\n",
      "\u001b[1m80/80\u001b[0m \u001b[32m━━━━━━━━━━━━━━━━━━━━\u001b[0m\u001b[37m\u001b[0m \u001b[1m0s\u001b[0m 69ms/step - accuracy: 0.8797 - loss: 0.3196\n",
      "Epoch 2: saving model to training_1/cp.weights.h5\n",
      "\u001b[1m80/80\u001b[0m \u001b[32m━━━━━━━━━━━━━━━━━━━━\u001b[0m\u001b[37m\u001b[0m \u001b[1m8s\u001b[0m 93ms/step - accuracy: 0.8796 - loss: 0.3196 - val_accuracy: 0.9266 - val_loss: 0.2123\n",
      "Epoch 3/15\n",
      "\u001b[1m80/80\u001b[0m \u001b[32m━━━━━━━━━━━━━━━━━━━━\u001b[0m\u001b[37m\u001b[0m \u001b[1m0s\u001b[0m 63ms/step - accuracy: 0.8885 - loss: 0.2791\n",
      "Epoch 3: saving model to training_1/cp.weights.h5\n",
      "\u001b[1m80/80\u001b[0m \u001b[32m━━━━━━━━━━━━━━━━━━━━\u001b[0m\u001b[37m\u001b[0m \u001b[1m7s\u001b[0m 88ms/step - accuracy: 0.8886 - loss: 0.2789 - val_accuracy: 0.9594 - val_loss: 0.1214\n",
      "Epoch 4/15\n",
      "\u001b[1m80/80\u001b[0m \u001b[32m━━━━━━━━━━━━━━━━━━━━\u001b[0m\u001b[37m\u001b[0m \u001b[1m0s\u001b[0m 64ms/step - accuracy: 0.9162 - loss: 0.2108\n",
      "Epoch 4: saving model to training_1/cp.weights.h5\n",
      "\u001b[1m80/80\u001b[0m \u001b[32m━━━━━━━━━━━━━━━━━━━━\u001b[0m\u001b[37m\u001b[0m \u001b[1m7s\u001b[0m 88ms/step - accuracy: 0.9162 - loss: 0.2108 - val_accuracy: 0.9828 - val_loss: 0.0745\n",
      "Epoch 5/15\n",
      "\u001b[1m80/80\u001b[0m \u001b[32m━━━━━━━━━━━━━━━━━━━━\u001b[0m\u001b[37m\u001b[0m \u001b[1m0s\u001b[0m 64ms/step - accuracy: 0.9320 - loss: 0.1850\n",
      "Epoch 5: saving model to training_1/cp.weights.h5\n",
      "\u001b[1m80/80\u001b[0m \u001b[32m━━━━━━━━━━━━━━━━━━━━\u001b[0m\u001b[37m\u001b[0m \u001b[1m7s\u001b[0m 88ms/step - accuracy: 0.9319 - loss: 0.1851 - val_accuracy: 0.9719 - val_loss: 0.0834\n",
      "Epoch 6/15\n",
      "\u001b[1m80/80\u001b[0m \u001b[32m━━━━━━━━━━━━━━━━━━━━\u001b[0m\u001b[37m\u001b[0m \u001b[1m0s\u001b[0m 64ms/step - accuracy: 0.9273 - loss: 0.1802\n",
      "Epoch 6: saving model to training_1/cp.weights.h5\n",
      "\u001b[1m80/80\u001b[0m \u001b[32m━━━━━━━━━━━━━━━━━━━━\u001b[0m\u001b[37m\u001b[0m \u001b[1m7s\u001b[0m 88ms/step - accuracy: 0.9273 - loss: 0.1803 - val_accuracy: 0.9828 - val_loss: 0.0752\n",
      "Epoch 7/15\n",
      "\u001b[1m80/80\u001b[0m \u001b[32m━━━━━━━━━━━━━━━━━━━━\u001b[0m\u001b[37m\u001b[0m \u001b[1m0s\u001b[0m 63ms/step - accuracy: 0.9238 - loss: 0.1880\n",
      "Epoch 7: saving model to training_1/cp.weights.h5\n",
      "\u001b[1m80/80\u001b[0m \u001b[32m━━━━━━━━━━━━━━━━━━━━\u001b[0m\u001b[37m\u001b[0m \u001b[1m7s\u001b[0m 87ms/step - accuracy: 0.9239 - loss: 0.1878 - val_accuracy: 0.9875 - val_loss: 0.0595\n",
      "Epoch 8/15\n",
      "\u001b[1m80/80\u001b[0m \u001b[32m━━━━━━━━━━━━━━━━━━━━\u001b[0m\u001b[37m\u001b[0m \u001b[1m0s\u001b[0m 63ms/step - accuracy: 0.9351 - loss: 0.1675\n",
      "Epoch 8: saving model to training_1/cp.weights.h5\n",
      "\u001b[1m80/80\u001b[0m \u001b[32m━━━━━━━━━━━━━━━━━━━━\u001b[0m\u001b[37m\u001b[0m \u001b[1m8s\u001b[0m 92ms/step - accuracy: 0.9352 - loss: 0.1674 - val_accuracy: 0.9891 - val_loss: 0.0473\n",
      "Epoch 9/15\n",
      "\u001b[1m80/80\u001b[0m \u001b[32m━━━━━━━━━━━━━━━━━━━━\u001b[0m\u001b[37m\u001b[0m \u001b[1m0s\u001b[0m 62ms/step - accuracy: 0.9501 - loss: 0.1393\n",
      "Epoch 9: saving model to training_1/cp.weights.h5\n",
      "\u001b[1m80/80\u001b[0m \u001b[32m━━━━━━━━━━━━━━━━━━━━\u001b[0m\u001b[37m\u001b[0m \u001b[1m7s\u001b[0m 89ms/step - accuracy: 0.9502 - loss: 0.1393 - val_accuracy: 0.9734 - val_loss: 0.0760\n",
      "Epoch 10/15\n",
      "\u001b[1m80/80\u001b[0m \u001b[32m━━━━━━━━━━━━━━━━━━━━\u001b[0m\u001b[37m\u001b[0m \u001b[1m0s\u001b[0m 60ms/step - accuracy: 0.9443 - loss: 0.1394\n",
      "Epoch 10: saving model to training_1/cp.weights.h5\n",
      "\u001b[1m80/80\u001b[0m \u001b[32m━━━━━━━━━━━━━━━━━━━━\u001b[0m\u001b[37m\u001b[0m \u001b[1m7s\u001b[0m 85ms/step - accuracy: 0.9443 - loss: 0.1394 - val_accuracy: 0.9859 - val_loss: 0.0428\n",
      "Epoch 11/15\n",
      "\u001b[1m80/80\u001b[0m \u001b[32m━━━━━━━━━━━━━━━━━━━━\u001b[0m\u001b[37m\u001b[0m \u001b[1m0s\u001b[0m 60ms/step - accuracy: 0.9492 - loss: 0.1188\n",
      "Epoch 11: saving model to training_1/cp.weights.h5\n",
      "\u001b[1m80/80\u001b[0m \u001b[32m━━━━━━━━━━━━━━━━━━━━\u001b[0m\u001b[37m\u001b[0m \u001b[1m7s\u001b[0m 84ms/step - accuracy: 0.9493 - loss: 0.1188 - val_accuracy: 0.9750 - val_loss: 0.0792\n",
      "Epoch 12/15\n",
      "\u001b[1m80/80\u001b[0m \u001b[32m━━━━━━━━━━━━━━━━━━━━\u001b[0m\u001b[37m\u001b[0m \u001b[1m0s\u001b[0m 60ms/step - accuracy: 0.9507 - loss: 0.1358\n",
      "Epoch 12: saving model to training_1/cp.weights.h5\n",
      "\u001b[1m80/80\u001b[0m \u001b[32m━━━━━━━━━━━━━━━━━━━━\u001b[0m\u001b[37m\u001b[0m \u001b[1m7s\u001b[0m 84ms/step - accuracy: 0.9507 - loss: 0.1358 - val_accuracy: 0.9875 - val_loss: 0.0511\n",
      "Epoch 13/15\n",
      "\u001b[1m80/80\u001b[0m \u001b[32m━━━━━━━━━━━━━━━━━━━━\u001b[0m\u001b[37m\u001b[0m \u001b[1m0s\u001b[0m 60ms/step - accuracy: 0.9577 - loss: 0.1157\n",
      "Epoch 13: saving model to training_1/cp.weights.h5\n",
      "\u001b[1m80/80\u001b[0m \u001b[32m━━━━━━━━━━━━━━━━━━━━\u001b[0m\u001b[37m\u001b[0m \u001b[1m7s\u001b[0m 83ms/step - accuracy: 0.9577 - loss: 0.1157 - val_accuracy: 0.9969 - val_loss: 0.0286\n",
      "Epoch 14/15\n",
      "\u001b[1m80/80\u001b[0m \u001b[32m━━━━━━━━━━━━━━━━━━━━\u001b[0m\u001b[37m\u001b[0m \u001b[1m0s\u001b[0m 60ms/step - accuracy: 0.9527 - loss: 0.1196\n",
      "Epoch 14: saving model to training_1/cp.weights.h5\n",
      "\u001b[1m80/80\u001b[0m \u001b[32m━━━━━━━━━━━━━━━━━━━━\u001b[0m\u001b[37m\u001b[0m \u001b[1m7s\u001b[0m 84ms/step - accuracy: 0.9527 - loss: 0.1197 - val_accuracy: 0.9875 - val_loss: 0.0501\n",
      "Epoch 15/15\n",
      "\u001b[1m80/80\u001b[0m \u001b[32m━━━━━━━━━━━━━━━━━━━━\u001b[0m\u001b[37m\u001b[0m \u001b[1m0s\u001b[0m 65ms/step - accuracy: 0.9504 - loss: 0.1297\n",
      "Epoch 15: saving model to training_1/cp.weights.h5\n",
      "\u001b[1m80/80\u001b[0m \u001b[32m━━━━━━━━━━━━━━━━━━━━\u001b[0m\u001b[37m\u001b[0m \u001b[1m7s\u001b[0m 88ms/step - accuracy: 0.9504 - loss: 0.1296 - val_accuracy: 0.9859 - val_loss: 0.0414\n"
     ]
    }
   ],
   "source": [
    "checkpoint_path = \"training_1/cp.weights.h5\"\n",
    "checkpoint_dir = os.path.dirname(checkpoint_path)\n",
    "cp_callback = tf.keras.callbacks.ModelCheckpoint(filepath=checkpoint_path,\n",
    "                                                 save_weights_only=True,\n",
    "                                                 verbose=1)\n",
    "his=model.fit(datagen.flow(trainx,trainy,batch_size=32),validation_data=(testx,testy),epochs=15, callbacks=cp_callback)"
   ]
  },
  {
   "cell_type": "code",
   "execution_count": 41,
   "id": "fatty-rotation",
   "metadata": {
    "execution": {
     "iopub.execute_input": "2021-05-14T07:07:35.552606Z",
     "iopub.status.busy": "2021-05-14T07:07:35.540405Z",
     "iopub.status.idle": "2021-05-14T07:07:35.703964Z",
     "shell.execute_reply": "2021-05-14T07:07:35.704437Z"
    },
    "papermill": {
     "duration": 0.765493,
     "end_time": "2021-05-14T07:07:35.704610",
     "exception": false,
     "start_time": "2021-05-14T07:07:34.939117",
     "status": "completed"
    },
    "tags": []
   },
   "outputs": [
    {
     "data": {
      "image/png": "[encoded data removed]",
      "text/plain": [
       "<Figure size 640x480 with 1 Axes>"
      ]
     },
     "metadata": {},
     "output_type": "display_data"
    },
    {
     "data": {
      "text/plain": [
       "<Figure size 640x480 with 0 Axes>"
      ]
     },
     "metadata": {},
     "output_type": "display_data"
    }
   ],
   "source": [
    "get_acc = his.history['accuracy']\n",
    "value_acc = his.history['val_accuracy']\n",
    "get_loss = his.history['loss']\n",
    "validation_loss = his.history['val_loss']\n",
    "\n",
    "epochs = range(len(get_acc))\n",
    "plt.plot(epochs, get_acc, 'r', label='Accuracy of Training data')\n",
    "plt.plot(epochs, value_acc, 'b', label='Accuracy of Validation data')\n",
    "plt.title('Training vs validation accuracy')\n",
    "plt.legend(loc=0)\n",
    "plt.figure()\n",
    "plt.show()"
   ]
  },
  {
   "cell_type": "code",
   "execution_count": 42,
   "id": "bacterial-litigation",
   "metadata": {
    "execution": {
     "iopub.execute_input": "2021-05-14T07:07:36.830154Z",
     "iopub.status.busy": "2021-05-14T07:07:36.829470Z",
     "iopub.status.idle": "2021-05-14T07:07:36.996809Z",
     "shell.execute_reply": "2021-05-14T07:07:36.997316Z"
    },
    "papermill": {
     "duration": 0.730093,
     "end_time": "2021-05-14T07:07:36.997481",
     "exception": false,
     "start_time": "2021-05-14T07:07:36.267388",
     "status": "completed"
    },
    "tags": []
   },
   "outputs": [
    {
     "data": {
      "image/png": "[encoded data removed]",
      "text/plain": [
       "<Figure size 640x480 with 1 Axes>"
      ]
     },
     "metadata": {},
     "output_type": "display_data"
    },
    {
     "data": {
      "text/plain": [
       "<Figure size 640x480 with 0 Axes>"
      ]
     },
     "metadata": {},
     "output_type": "display_data"
    }
   ],
   "source": [
    "epochs = range(len(get_loss))\n",
    "plt.plot(epochs, get_loss, 'r', label='Loss of Training data')\n",
    "plt.plot(epochs, validation_loss, 'b', label='Loss of Validation data')\n",
    "plt.title('Training vs validation loss')\n",
    "plt.legend(loc=0)\n",
    "plt.figure()\n",
    "plt.show()"
   ]
  },
  {
   "cell_type": "code",
   "execution_count": 43,
   "id": "9db0d216",
   "metadata": {},
   "outputs": [
    {
     "name": "stdout",
     "output_type": "stream",
     "text": [
      "2.16.1\n"
     ]
    }
   ],
   "source": [
    "from tensorflow import keras\n",
    "print(tf.version.VERSION)"
   ]
  },
  {
   "cell_type": "code",
   "execution_count": 44,
   "id": "343ef04f",
   "metadata": {},
   "outputs": [
    {
     "data": {
      "text/plain": [
       "['cp.weights.h5']"
      ]
     },
     "execution_count": 44,
     "metadata": {},
     "output_type": "execute_result"
    }
   ],
   "source": [
    "os.listdir(checkpoint_dir)"
   ]
  },
  {
   "cell_type": "code",
   "execution_count": 45,
   "id": "2159d6b4",
   "metadata": {},
   "outputs": [],
   "source": [
    "pretrained_model3 = tf.keras.applications.DenseNet201(input_shape=(40,40,3),include_top=False,weights='imagenet',pooling='avg')\n",
    "pretrained_model3.trainable = False\n",
    "inputs3 = pretrained_model3.input\n",
    "x3 = tf.keras.layers.Dense(128, activation='relu')(pretrained_model3.output)\n",
    "outputs3 = tf.keras.layers.Dense(4, activation='softmax')(x3)\n",
    "model1 = tf.keras.Model(inputs=inputs3, outputs=outputs3)"
   ]
  },
  {
   "cell_type": "code",
   "execution_count": 46,
   "id": "8b3a1882",
   "metadata": {},
   "outputs": [],
   "source": [
    "checkpoint_path = \"training_1/cp.weights.h5\"\n",
    "model1.load_weights(checkpoint_path)"
   ]
  },
  {
   "cell_type": "code",
   "execution_count": 47,
   "id": "e5b66711",
   "metadata": {},
   "outputs": [
    {
     "name": "stdout",
     "output_type": "stream",
     "text": [
      "\u001b[1m20/20\u001b[0m \u001b[32m━━━━━━━━━━━━━━━━━━━━\u001b[0m\u001b[37m\u001b[0m \u001b[1m5s\u001b[0m 58ms/step\n",
      "              precision    recall  f1-score   support\n",
      "\n",
      "           0       0.98      0.99      0.99       154\n",
      "           1       0.99      0.98      0.99       166\n",
      "           2       0.98      0.99      0.99       168\n",
      "           3       0.99      0.97      0.98       152\n",
      "\n",
      "    accuracy                           0.99       640\n",
      "   macro avg       0.99      0.99      0.99       640\n",
      "weighted avg       0.99      0.99      0.99       640\n",
      "\n"
     ]
    }
   ],
   "source": [
    "y_pred=model1.predict(testx)\n",
    "pred=np.argmax(y_pred,axis=1)\n",
    "ground = np.argmax(testy,axis=1)\n",
    "print(classification_report(ground,pred))"
   ]
  },
  {
   "cell_type": "code",
   "execution_count": 48,
   "id": "7391396a",
   "metadata": {},
   "outputs": [
    {
     "data": {
      "image/png": "[encoded data removed]",
      "text/plain": [
       "<Figure size 1000x800 with 2 Axes>"
      ]
     },
     "metadata": {},
     "output_type": "display_data"
    }
   ],
   "source": [
    "import seaborn as sns\n",
    "\n",
    "conf_matrix = tf.math.confusion_matrix(ground, pred)\n",
    "plt.figure(figsize=(10, 8))\n",
    "sns.heatmap(conf_matrix,\n",
    "            xticklabels=Name,\n",
    "            yticklabels=Name,\n",
    "            annot=True, fmt='g')\n",
    "plt.xlabel('Prediction')\n",
    "plt.ylabel('Label')\n",
    "plt.show()"
   ]
  }
 ],
 "metadata": {
  "kernelspec": {
   "display_name": "Python 3",
   "language": "python",
   "name": "python3"
  },
  "language_info": {
   "codemirror_mode": {
    "name": "ipython",
    "version": 3
   },
   "file_extension": ".py",
   "mimetype": "text/x-python",
   "name": "python",
   "nbconvert_exporter": "python",
   "pygments_lexer": "ipython3",
   "version": "3.10.12"
  },
  "papermill": {
   "default_parameters": {},
   "duration": 376.184017,
   "end_time": "2021-05-14T07:07:53.082872",
   "environment_variables": {},
   "exception": null,
   "input_path": "__notebook__.ipynb",
   "output_path": "__notebook__.ipynb",
   "parameters": {},
   "start_time": "2021-05-14T07:01:36.898855",
   "version": "2.3.3"
  }
 },
 "nbformat": 4,
 "nbformat_minor": 5
}
